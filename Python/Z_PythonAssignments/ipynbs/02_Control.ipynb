{
 "cells": [
  {
   "cell_type": "markdown",
   "id": "da843c42",
   "metadata": {},
   "source": [
    "# Python 01. 데이터 & 제어문 Workshop\n",
    "* Background\n",
    "    * 데이터의 입력 및 출력\n",
    "    * 제어문\n",
    "* Goal\n",
    "    * Python 프로그래밍 언어 기본 문법의 이해\n",
    "    * 데이터 입출력 방법의 이해"
   ]
  },
  {
   "cell_type": "markdown",
   "id": "07936ef1",
   "metadata": {},
   "source": [
    "## Problem\n",
    "## 1. 세로로 출력하기\n",
    "* 자연수 number를 입력 받아, 1부터 number까지의 수를 세로로 한 줄씩 출력하시오."
   ]
  },
  {
   "cell_type": "code",
   "execution_count": 1,
   "id": "9900edd6",
   "metadata": {},
   "outputs": [
    {
     "name": "stdout",
     "output_type": "stream",
     "text": [
      "10\n"
     ]
    }
   ],
   "source": [
    "# input\n",
    "number = int(input())"
   ]
  },
  {
   "cell_type": "code",
   "execution_count": 2,
   "id": "fbbd310a",
   "metadata": {},
   "outputs": [
    {
     "name": "stdout",
     "output_type": "stream",
     "text": [
      "1\n",
      "2\n",
      "3\n",
      "4\n",
      "5\n",
      "6\n",
      "7\n",
      "8\n",
      "9\n",
      "10\n"
     ]
    }
   ],
   "source": [
    "# 1 to 10 sequence for loop\n",
    "for i in range(1, number + 1) :\n",
    "    print(i)"
   ]
  },
  {
   "cell_type": "markdown",
   "id": "522cc085",
   "metadata": {},
   "source": [
    "## 2. 거꾸로 세로로 출력하기\n",
    "* 자연수 number를 입력 받아, number부터 0까지의 수를 세로로 한 줄씩 출력하시오."
   ]
  },
  {
   "cell_type": "code",
   "execution_count": 3,
   "id": "56144d06",
   "metadata": {},
   "outputs": [
    {
     "name": "stdout",
     "output_type": "stream",
     "text": [
      "5\n"
     ]
    }
   ],
   "source": [
    "# input\n",
    "number = int(input())"
   ]
  },
  {
   "cell_type": "code",
   "execution_count": 4,
   "id": "0a64690a",
   "metadata": {},
   "outputs": [
    {
     "name": "stdout",
     "output_type": "stream",
     "text": [
      "5\n",
      "4\n",
      "3\n",
      "2\n",
      "1\n",
      "0\n"
     ]
    }
   ],
   "source": [
    "# while loop\n",
    "while number >= 0 :\n",
    "    print(number)\n",
    "    number -= 1"
   ]
  },
  {
   "cell_type": "markdown",
   "id": "5ff9fa35",
   "metadata": {},
   "source": [
    "## 3. N줄 덧셈 (SWEA #2025)\n",
    "* 입력으로 자연수 number가 주어질 떄, 1부터 주어진 자연수 number 까지를 모두 더한 값을 출력하시오. 단, 주어지는 숫자는 10,000을 넘지 않는다. 예를 들어, 주어진 숫자가 10일 경우 1 + 2 + 3 + 4 + 5 + 6 + 7 + 8 + 9 + 10 = 55이므로, 출력해야 할 값은 55이다."
   ]
  },
  {
   "cell_type": "code",
   "execution_count": 5,
   "id": "565ae04a",
   "metadata": {},
   "outputs": [
    {
     "name": "stdout",
     "output_type": "stream",
     "text": [
      "10\n"
     ]
    }
   ],
   "source": [
    "# input\n",
    "number = int(input())"
   ]
  },
  {
   "cell_type": "code",
   "execution_count": 6,
   "id": "f41820fe",
   "metadata": {},
   "outputs": [
    {
     "name": "stdout",
     "output_type": "stream",
     "text": [
      "55\n"
     ]
    }
   ],
   "source": [
    "total = 0\n",
    "for num in range(number) :\n",
    "    num += 1\n",
    "    total += num\n",
    "print(total)"
   ]
  }
 ],
 "metadata": {
  "kernelspec": {
   "display_name": "Python 3",
   "language": "python",
   "name": "python3"
  },
  "language_info": {
   "codemirror_mode": {
    "name": "ipython",
    "version": 3
   },
   "file_extension": ".py",
   "mimetype": "text/x-python",
   "name": "python",
   "nbconvert_exporter": "python",
   "pygments_lexer": "ipython3",
   "version": "3.8.8"
  }
 },
 "nbformat": 4,
 "nbformat_minor": 5
}
