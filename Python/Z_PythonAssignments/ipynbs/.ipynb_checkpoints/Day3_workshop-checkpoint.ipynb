{
 "cells": [
  {
   "cell_type": "markdown",
   "id": "71dab9b3",
   "metadata": {},
   "source": [
    "# Python 03. 함수\n",
    "* Background\n",
    "    * 함수\n",
    "    * 매개변수와 인자\n",
    "* Goal\n",
    "    * 함수의 선언과 호출에 대한 이해\n",
    "    * 함수의 반환에 대한 이해"
   ]
  },
  {
   "cell_type": "markdown",
   "id": "649f5493",
   "metadata": {},
   "source": [
    "## Problem"
   ]
  },
  {
   "cell_type": "markdown",
   "id": "cf063b81",
   "metadata": {},
   "source": [
    "## 1. List의 합 구하기\n",
    "* 정수로만 이루어진 list를 전달받아 해당 list의 모든 요소들의 합을 반환하는 list_sum 함수를 built-in 함수인 sum() 함수를 사용하지 않고 작성하시오."
   ]
  },
  {
   "cell_type": "code",
   "execution_count": 4,
   "id": "503d061f",
   "metadata": {},
   "outputs": [
    {
     "data": {
      "text/plain": [
       "15"
      ]
     },
     "execution_count": 4,
     "metadata": {},
     "output_type": "execute_result"
    }
   ],
   "source": [
    "def list_sum(args) :\n",
    "    total = 0\n",
    "    for arg in args :\n",
    "        total += arg\n",
    "    return total\n",
    "\n",
    "list_sum([1,2,3,4,5])"
   ]
  },
  {
   "cell_type": "markdown",
   "id": "ce4a0c4b",
   "metadata": {},
   "source": [
    "## 2. Dictionary로 이뤄진 List의 합 구하기\n",
    "* Dictionary로 이루어진 list를 전달 받아 모든 dictionary의 'age' key에 해당하는 value들의 합을 반환하는 dict_list_sum 함수를 built-in 함수인 sum() 함수를 사용하지 않고 작성하시오."
   ]
  },
  {
   "cell_type": "code",
   "execution_count": 7,
   "id": "274416b6",
   "metadata": {},
   "outputs": [
    {
     "data": {
      "text/plain": [
       "16"
      ]
     },
     "execution_count": 7,
     "metadata": {},
     "output_type": "execute_result"
    }
   ],
   "source": [
    "def dict_list_sum(dicts):\n",
    "    total = 0\n",
    "    for d in dicts :\n",
    "        total += d['age']\n",
    "    return total\n",
    "\n",
    "dict_list_sum([{'name':'kim', 'age':12},\n",
    "              {'name':'lee', 'age': 4}])"
   ]
  },
  {
   "cell_type": "markdown",
   "id": "c88a99e3",
   "metadata": {},
   "source": [
    "## 3. 2차원 List의 전체 합 구하기\n",
    "* 정수로만 이루어진 2차원 list를 전달받아 해당 list의 모든 요소들의 합을 반환하는 all_list_sum 함수를 built-in 함수인 sum() 함수를 사용하지 않고 작성하시오."
   ]
  },
  {
   "cell_type": "code",
   "execution_count": 13,
   "id": "16ce9468",
   "metadata": {
    "scrolled": true
   },
   "outputs": [
    {
     "data": {
      "text/plain": [
       "55"
      ]
     },
     "execution_count": 13,
     "metadata": {},
     "output_type": "execute_result"
    }
   ],
   "source": [
    "def all_list_sum(arr) :\n",
    "    total = 0\n",
    "    for l in arr :\n",
    "        for i in l :\n",
    "            total += i\n",
    "    return total\n",
    "\n",
    "arr = [\n",
    "    [1], \n",
    "    [2, 3], \n",
    "    [4, 5, 6], \n",
    "    [7, 8, 9, 10],\n",
    "]\n",
    "\n",
    "all_list_sum(arr)"
   ]
  },
  {
   "cell_type": "code",
   "execution_count": 15,
   "id": "9da4d328",
   "metadata": {},
   "outputs": [
    {
     "data": {
      "text/plain": [
       "55"
      ]
     },
     "execution_count": 15,
     "metadata": {},
     "output_type": "execute_result"
    }
   ],
   "source": [
    "from functools import reduce\n",
    "\n",
    "reduce(lambda x, y : x + y, reduce(lambda x, y : x + y, arr))"
   ]
  },
  {
   "cell_type": "raw",
   "id": "e3960d72",
   "metadata": {},
   "source": [
    "## Reduce\n",
    "* 반드시 인자로 함수(함수() 아님)를 넣어줘야 함.\n",
    "* 뒤쪽 컨테이너에서 원소를 차례로 꺼내서 함수를 연산"
   ]
  }
 ],
 "metadata": {
  "kernelspec": {
   "display_name": "Python 3",
   "language": "python",
   "name": "python3"
  },
  "language_info": {
   "codemirror_mode": {
    "name": "ipython",
    "version": 3
   },
   "file_extension": ".py",
   "mimetype": "text/x-python",
   "name": "python",
   "nbconvert_exporter": "python",
   "pygments_lexer": "ipython3",
   "version": "3.8.8"
  }
 },
 "nbformat": 4,
 "nbformat_minor": 5
}
