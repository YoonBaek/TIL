{
 "cells": [
  {
   "cell_type": "markdown",
   "id": "a48f68af",
   "metadata": {},
   "source": [
    "# Python 03. 함수\n",
    "* 학습해야 할 내용\n",
    "    * 함수의 선언과 호출\n",
    "    * 함수의 매개변수와 인자"
   ]
  },
  {
   "cell_type": "markdown",
   "id": "53267124",
   "metadata": {},
   "source": [
    "## 1. Built-in 함수\n",
    "* 파이썬에서 기본으로 사용할 수 있는 built-in 함수를 최소 5가지 이상 작성하시오.\n",
    "    * sum(), pow(), dir(), help(), round(), int(), float(), str(), type(), bool(), list(), set(), tuple(), \"string\".replace() ..."
   ]
  },
  {
   "cell_type": "markdown",
   "id": "f522580d",
   "metadata": {},
   "source": [
    "# 2. 정중앙 문자\n",
    "* 문자열을 전달 받아 해당 문자열의 정중앙 문자를 반환하는 get_middle_char 함수를 작성하시오. 단, 문자열의 길이가 짝수일 경우에는 정중앙 문자 2개를 반환한다."
   ]
  },
  {
   "cell_type": "code",
   "execution_count": 11,
   "id": "4aa49eb5",
   "metadata": {},
   "outputs": [
    {
     "name": "stdout",
     "output_type": "stream",
     "text": [
      "a\n",
      "di\n"
     ]
    }
   ],
   "source": [
    "def get_middle_char(word) :\n",
    "    target_idx = int(len(word) / 2)\n",
    "    target = word[target_idx]\n",
    "    if len(word) % 2 == 0 :\n",
    "        target = word[target_idx-1] + target\n",
    "    return target\n",
    "\n",
    "print(get_middle_char(\"ssafy\"))\n",
    "print(get_middle_char(\"coding\"))"
   ]
  },
  {
   "cell_type": "markdown",
   "id": "6af2ebac",
   "metadata": {},
   "source": [
    "## 3. 위치 인자와 키워드 인자\n",
    "* 다음과 같이 함수가 선언되어 있을 때, 보기 (1)~(4) 중에서 실행시 오류가 발생하는 코드를 고르시오."
   ]
  },
  {
   "cell_type": "code",
   "execution_count": 13,
   "id": "d19f75c9",
   "metadata": {},
   "outputs": [
    {
     "ename": "SyntaxError",
     "evalue": "positional argument follows keyword argument (<ipython-input-13-03af08a88b78>, line 11)",
     "output_type": "error",
     "traceback": [
      "\u001b[0;36m  File \u001b[0;32m\"<ipython-input-13-03af08a88b78>\"\u001b[0;36m, line \u001b[0;32m11\u001b[0m\n\u001b[0;31m    ssafy(name=\"길동\", \"구미\")\u001b[0m\n\u001b[0m                         ^\u001b[0m\n\u001b[0;31mSyntaxError\u001b[0m\u001b[0;31m:\u001b[0m positional argument follows keyword argument\n"
     ]
    }
   ],
   "source": [
    "def ssafy(name, location=\"서울\"):\n",
    "    print(f\"{name}의 지역은 {location}입니다.\")\n",
    "\n",
    "# (1)\n",
    "ssafy(\"허준\") # location을 디폴트 값으로 파싱해서 정상 출력\n",
    "# (2)\n",
    "ssafy(location=\"대전\", name=\"철수\") # 파라미터를 전달할 경우 순서와 무관하게 출력\n",
    "# (3)\n",
    "ssafy(\"영희\", location = \"광주\") # 포지션에 의해 \"영희\"는 name으로 해석 된다.\n",
    "# (4)\n",
    "ssafy(name=\"길동\", \"구미\") # 파라미터를 지정해줄경우 그 순간 이후로는 위치로 파라미터를 보지 않으므로 에러가 남."
   ]
  },
  {
   "cell_type": "markdown",
   "id": "8cbe1b0a",
   "metadata": {},
   "source": [
    "## 4. 나의 반환값은\n",
    "* 다음과 같이 함수를 선언하고 호출하였을 때, 변수 result에 저장된 값을 작성하시오."
   ]
  },
  {
   "cell_type": "code",
   "execution_count": 15,
   "id": "a71cd415",
   "metadata": {},
   "outputs": [
    {
     "name": "stdout",
     "output_type": "stream",
     "text": [
      "10\n",
      "None\n"
     ]
    }
   ],
   "source": [
    "def my_func(a, b) :\n",
    "    c = a + b\n",
    "    print(c)\n",
    "\n",
    "# return 값이 없는 함수는 None을 반환하기 때문에 result에 저장된 값은 None이다.\n",
    "result = my_func(3,7)\n",
    "print(result)"
   ]
  },
  {
   "cell_type": "markdown",
   "id": "fdba2506",
   "metadata": {},
   "source": [
    "## 5. 가변 인자 리스트\n",
    "* 가변 인자 리스트를 사용하여, 갯수가 정해지지 않은 여러 정수들을 전달 받아 해당 정수들의 평균 값을 반환하는 my_avg 함수를 작성하시오."
   ]
  },
  {
   "cell_type": "code",
   "execution_count": null,
   "id": "5d500f58",
   "metadata": {},
   "outputs": [],
   "source": [
    "def my_avg(*args) :\n",
    "    total = 0\n",
    "    length = 0\n",
    "    for arg in args :\n",
    "        length += 1\n",
    "        total += arg\n",
    "        \n",
    "    return round(length)"
   ]
  }
 ],
 "metadata": {
  "kernelspec": {
   "display_name": "Python 3",
   "language": "python",
   "name": "python3"
  },
  "language_info": {
   "codemirror_mode": {
    "name": "ipython",
    "version": 3
   },
   "file_extension": ".py",
   "mimetype": "text/x-python",
   "name": "python",
   "nbconvert_exporter": "python",
   "pygments_lexer": "ipython3",
   "version": "3.8.8"
  }
 },
 "nbformat": 4,
 "nbformat_minor": 5
}
