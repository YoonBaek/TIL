{
 "cells": [
  {
   "cell_type": "markdown",
   "id": "45db2b14",
   "metadata": {},
   "source": [
    "# Python 01. 데이터 & 제어문 Workshop\n",
    "* Background\n",
    "    * 데이터의 입력 및 출력\n",
    "    * 제어문\n",
    "* Goal\n",
    "    * Python 프로그래밍 언어 기본 문법의 이해\n",
    "    * 데이터 입출력 방법의 이해"
   ]
  },
  {
   "cell_type": "markdown",
   "id": "a0a19c14",
   "metadata": {},
   "source": [
    "## Problem\n",
    "## 1. 세로로 출력하기\n",
    "* 자연수 number를 입력 받아, 1부터 number까지의 수를 세로로 한 줄씩 출력하시오."
   ]
  },
  {
   "cell_type": "code",
   "execution_count": 1,
   "id": "e13216fe",
   "metadata": {},
   "outputs": [
    {
     "name": "stdout",
     "output_type": "stream",
     "text": [
      "10\n"
     ]
    }
   ],
   "source": [
    "# input\n",
    "number = int(input())"
   ]
  },
  {
   "cell_type": "code",
   "execution_count": 2,
   "id": "62bc3788",
   "metadata": {},
   "outputs": [
    {
     "name": "stdout",
     "output_type": "stream",
     "text": [
      "1\n",
      "2\n",
      "3\n",
      "4\n",
      "5\n",
      "6\n",
      "7\n",
      "8\n",
      "9\n",
      "10\n"
     ]
    }
   ],
   "source": [
    "# 1 to 10 sequence for loop\n",
    "for i in range(1, number + 1) :\n",
    "    print(i)"
   ]
  },
  {
   "cell_type": "markdown",
   "id": "542f4d19",
   "metadata": {},
   "source": [
    "## 2. 거꾸로 세로로 출력하기\n",
    "* 자연수 number를 입력 받아, number부터 0까지의 수를 세로로 한 줄씩 출력하시오."
   ]
  },
  {
   "cell_type": "code",
   "execution_count": 3,
   "id": "103924c6",
   "metadata": {},
   "outputs": [
    {
     "name": "stdout",
     "output_type": "stream",
     "text": [
      "5\n"
     ]
    }
   ],
   "source": [
    "# input\n",
    "number = int(input())"
   ]
  },
  {
   "cell_type": "code",
   "execution_count": 4,
   "id": "e628cb9e",
   "metadata": {},
   "outputs": [
    {
     "name": "stdout",
     "output_type": "stream",
     "text": [
      "5\n",
      "4\n",
      "3\n",
      "2\n",
      "1\n",
      "0\n"
     ]
    }
   ],
   "source": [
    "# while loop\n",
    "while number >= 0 :\n",
    "    print(number)\n",
    "    number -= 1"
   ]
  },
  {
   "cell_type": "code",
   "execution_count": null,
   "id": "a7091834",
   "metadata": {},
   "outputs": [],
   "source": []
  }
 ],
 "metadata": {
  "kernelspec": {
   "display_name": "Python 3",
   "language": "python",
   "name": "python3"
  },
  "language_info": {
   "codemirror_mode": {
    "name": "ipython",
    "version": 3
   },
   "file_extension": ".py",
   "mimetype": "text/x-python",
   "name": "python",
   "nbconvert_exporter": "python",
   "pygments_lexer": "ipython3",
   "version": "3.8.8"
  }
 },
 "nbformat": 4,
 "nbformat_minor": 5
}
