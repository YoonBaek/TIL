{
 "cells": [
  {
   "cell_type": "markdown",
   "id": "b3317ee6",
   "metadata": {},
   "source": [
    "# Python 02. 데이터 & 제어문 H/W\n",
    "* 학습해야 할 내용\n",
    "    * 데이터 타입 및 형 변환\n",
    "    * 제어문"
   ]
  },
  {
   "cell_type": "markdown",
   "id": "b912ff2e",
   "metadata": {},
   "source": [
    "## 1. Mutable & Immutable\n",
    "* 주어진 컨테이너들을 각각 변경 가능한 것(mutable)과 변경 불가능한 것(immutable)으로 분류하시오.\n",
    "~~~\n",
    "String, List, Tuple, Range, Set, Dictionary\n",
    "~~~"
   ]
  },
  {
   "cell_type": "markdown",
   "id": "3c3ceed2",
   "metadata": {},
   "source": [
    "1. Mutable  \n",
    "    List, Dictionary, Set\n",
    "2. Immutable  \n",
    "    String, Tuple, Range,"
   ]
  },
  {
   "cell_type": "markdown",
   "id": "2f2d2506",
   "metadata": {},
   "source": [
    "## 2. 홀수만 담기\n",
    "* range와 slicing을 활용하여 1부터 50까지의 숫자 중, 홀수로만 이루어진 리스트를 만드시오."
   ]
  },
  {
   "cell_type": "code",
   "execution_count": 3,
   "id": "01dc2d72",
   "metadata": {},
   "outputs": [
    {
     "name": "stdout",
     "output_type": "stream",
     "text": [
      "[1, 3, 5, 7, 9, 11, 13, 15, 17, 19, 21, 23, 25, 27, 29, 31, 33, 35, 37, 39, 41, 43, 45, 47, 49]\n"
     ]
    }
   ],
   "source": [
    "print(list(range(1,51))[0::2])"
   ]
  },
  {
   "cell_type": "markdown",
   "id": "cc5c8482",
   "metadata": {},
   "source": [
    "## 3. Dictionary 만들기\n",
    "* 반 학생들의 정보를 이용하여 key는 이름, value는 나이인 dictionary를 만드시오."
   ]
  },
  {
   "cell_type": "code",
   "execution_count": 12,
   "id": "d28fcaef",
   "metadata": {},
   "outputs": [
    {
     "name": "stdout",
     "output_type": "stream",
     "text": [
      "이름은 백승윤이고, 나이는 29입니다.\n",
      "이름은 소석진이고, 나이는 27입니다.\n",
      "이름은 이채빈이고, 나이는 26입니다.\n"
     ]
    }
   ],
   "source": [
    "class_mates = {}\n",
    "class_mates[\"백승윤\"] = 29\n",
    "class_mates[\"소석진\"] = 27\n",
    "class_mates[\"이채빈\"] = 26\n",
    "\n",
    "for key in class_mates :\n",
    "    print(f\"이름은 {key}이고, 나이는 {class_mate[key]}입니다.\")"
   ]
  },
  {
   "cell_type": "markdown",
   "id": "18985ba3",
   "metadata": {},
   "source": [
    "## 4. 반복문으로 네모 출력\n",
    "* 두개의 정수 n과 m이 주어졌을 떄, 가로의 길이가 n, 세로의 길이가 m인 직사각형 형태를 별(*)문자를 이용하여 출력하시오. 단, 반복문을 사용하여 작성학시오."
   ]
  },
  {
   "cell_type": "code",
   "execution_count": 14,
   "id": "ebffe724",
   "metadata": {},
   "outputs": [],
   "source": [
    "n, m = 5, 9"
   ]
  },
  {
   "cell_type": "code",
   "execution_count": 16,
   "id": "ce6a3557",
   "metadata": {},
   "outputs": [
    {
     "name": "stdout",
     "output_type": "stream",
     "text": [
      "*****\n",
      "*****\n",
      "*****\n",
      "*****\n",
      "*****\n",
      "*****\n",
      "*****\n",
      "*****\n",
      "*****\n"
     ]
    }
   ],
   "source": [
    "for row in range(m) :\n",
    "    for col in range(n) :\n",
    "        print(\"*\", end = \"\")\n",
    "    print()"
   ]
  },
  {
   "cell_type": "markdown",
   "id": "923bce8c",
   "metadata": {},
   "source": [
    "## 5. 조건 표현식\n",
    "* 주어진 코드의 조건문을 조건 표현식으로 바꾸어 작성하시오."
   ]
  },
  {
   "cell_type": "code",
   "execution_count": 17,
   "id": "650c05d9",
   "metadata": {},
   "outputs": [
    {
     "name": "stdout",
     "output_type": "stream",
     "text": [
      "입실 가능\n"
     ]
    }
   ],
   "source": [
    "# original code\n",
    "temp = 36.5\n",
    "if temp >= 37.5 :\n",
    "    print(\"입싥 불가\")\n",
    "else :\n",
    "    print(\"입실 가능\")"
   ]
  },
  {
   "cell_type": "code",
   "execution_count": 18,
   "id": "36b7daaa",
   "metadata": {},
   "outputs": [
    {
     "name": "stdout",
     "output_type": "stream",
     "text": [
      "입실 가능\n"
     ]
    }
   ],
   "source": [
    "# conditional expression\n",
    "print(\"입실 불가\") if temp >= 37.5 else print(\"입실 가능\")"
   ]
  },
  {
   "cell_type": "markdown",
   "id": "1e27e75d",
   "metadata": {},
   "source": [
    "## 6. 평균 구하기\n",
    "* 주어진 list에 담긴 숫자들의 평균 값을 출력하시오."
   ]
  },
  {
   "cell_type": "code",
   "execution_count": 19,
   "id": "6d8e41d5",
   "metadata": {},
   "outputs": [],
   "source": [
    "scores = [80, 89, 99, 83]"
   ]
  },
  {
   "cell_type": "code",
   "execution_count": 20,
   "id": "fe4a499b",
   "metadata": {},
   "outputs": [
    {
     "name": "stdout",
     "output_type": "stream",
     "text": [
      "87.75\n"
     ]
    }
   ],
   "source": [
    "def mean(elements) :\n",
    "    return sum(elements) / len(elements)\n",
    "\n",
    "print(mean(scores))"
   ]
  },
  {
   "cell_type": "markdown",
   "id": "d86bba26",
   "metadata": {},
   "source": [
    "# Python 02. 데이터 & 제어문 Workshop\n",
    "* Background\n",
    "    * 데이터의 입력 및 출력\n",
    "    * 제어문\n",
    "* Goal\n",
    "    * Python 프로그래밍 언어 기본 문법의 이해\n",
    "    * 데이터 입출력 방법의 이해"
   ]
  },
  {
   "cell_type": "markdown",
   "id": "7070b163",
   "metadata": {},
   "source": [
    "## 1. 간단한 N의 약수 (SWEA #1933)\n",
    "* 입력으로 1개의 정수 N이 주어진다. 정수 N의 약수를 오름차순으로 출력하는 프로그램을 작성하시오.\n",
    "~~~\n",
    "[제약 사항]\n",
    "N은 1이상 1,000이하의 정수이다. (1 <= N <= 1000)\n",
    "[입력]\n",
    "입력으로 정수 N이 주어진다.\n",
    "[출력]\n",
    "정수 N의 모든 약수를 오름차순으로 출력한다.\n",
    "[입력 예시]\n",
    "10\n",
    "[출력 예시]\n",
    "1 2 5 10\n",
    "~~~"
   ]
  },
  {
   "cell_type": "code",
   "execution_count": 32,
   "id": "42895947",
   "metadata": {},
   "outputs": [
    {
     "name": "stdout",
     "output_type": "stream",
     "text": [
      "10\n"
     ]
    }
   ],
   "source": [
    "N = int(input())"
   ]
  },
  {
   "cell_type": "code",
   "execution_count": 43,
   "id": "9f3c4b44",
   "metadata": {},
   "outputs": [
    {
     "name": "stdout",
     "output_type": "stream",
     "text": [
      "1\n",
      "2\n",
      "5\n",
      "10\n"
     ]
    }
   ],
   "source": [
    "def get_divisor(num) :\n",
    "    div_list = []\n",
    "    for i in range(num) :\n",
    "        i += 1\n",
    "        if i ** 2 > num :\n",
    "            break\n",
    "        if num % i == 0 :\n",
    "            div_list.append(i)\n",
    "            print(i)\n",
    "    while len(div_list) > 0 :\n",
    "        pop = div_list.pop()\n",
    "        div = num / pop\n",
    "        if div == pop :\n",
    "            continue\n",
    "        print(int(div))\n",
    "\n",
    "get_divisor(N)"
   ]
  },
  {
   "cell_type": "markdown",
   "id": "b1685725",
   "metadata": {},
   "source": [
    "## 2. 중간값 찾기 (SWEA #2063 변형)\n",
    "* 중간값은 통계집단의 수치를 크기 순으로 배열했을 때 전체의 중앙에 위치하는 수치를 뜻한다. 리스트 numbers에 입력된 숫자에서 중간값을 출력하라.\n",
    "~~~\n",
    "[출력 예시]\n",
    "64\n",
    "~~~"
   ]
  },
  {
   "cell_type": "code",
   "execution_count": null,
   "id": "d96c486d",
   "metadata": {},
   "outputs": [],
   "source": [
    "numbers = [\n",
    "    85, 72, 38, 80, 69, 65, 68, 96, 22, 49, 67,\n",
    "    51, 61, 63, 87, 66, 24, 80, 83, 71, 60, 64, \n",
    "    52, 90, 60, 49, 31, 23, 99, 94, 11, 25, 24\n",
    "]"
   ]
  }
 ],
 "metadata": {
  "kernelspec": {
   "display_name": "Python 3",
   "language": "python",
   "name": "python3"
  },
  "language_info": {
   "codemirror_mode": {
    "name": "ipython",
    "version": 3
   },
   "file_extension": ".py",
   "mimetype": "text/x-python",
   "name": "python",
   "nbconvert_exporter": "python",
   "pygments_lexer": "ipython3",
   "version": "3.8.8"
  }
 },
 "nbformat": 4,
 "nbformat_minor": 5
}
